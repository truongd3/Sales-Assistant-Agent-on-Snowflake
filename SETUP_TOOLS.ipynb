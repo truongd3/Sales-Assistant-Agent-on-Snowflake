{
 "cells": [
  {
   "cell_type": "markdown",
   "id": "abc268cb-99b6-43a2-9c6a-c1463291ee3a",
   "metadata": {
    "collapsed": false,
    "name": "Start"
   },
   "source": [
    "# Setup Tools for Sales Assistant Agent\n",
    "We are going to setup all the tools that will be used by the Agent"
   ]
  },
  {
   "cell_type": "code",
   "execution_count": null,
   "id": "3775908f-ca36-4846-8f38-5adca39217f2",
   "metadata": {
    "language": "python",
    "name": "Connect"
   },
   "outputs": [],
   "source": [
    "# Import python packages\n",
    "import streamlit as st\n",
    "import pandas as pd\n",
    "\n",
    "# We can also use Snowpark for our analyses!\n",
    "from snowflake.snowpark.context import get_active_session\n",
    "session = get_active_session()"
   ]
  },
  {
   "cell_type": "markdown",
   "id": "0554b86d-68eb-4aff-a554-c80f26136f39",
   "metadata": {
    "collapsed": false,
    "name": "cell5"
   },
   "source": [
    "## Tools for Unstructured Data (Cortex Search)\n",
    "We're going to setup a tool tha will help the Agent to extract info from unstructured data. It will process PDF documents but also will be using IMAGE descriptions. The info is stored in PDF and JPEG format so first we are going to process it.\n",
    "\n",
    "### PDF FILES\n",
    "\n",
    "Let's process the documents about bikes and ski."
   ]
  },
  {
   "cell_type": "code",
   "execution_count": null,
   "id": "8d50cbf4-0c8d-4950-86cb-114990437ac9",
   "metadata": {
    "language": "sql",
    "name": "check_bike_files"
   },
   "outputs": [
    {
     "data": {
      "text/html": [
       "<table border=\"1\" class=\"dataframe\">\n",
       "  <thead>\n",
       "    <tr style=\"text-align: right;\">\n",
       "      <th></th>\n",
       "      <th>Unnamed: 0</th>\n",
       "      <th>RELATIVE_PATH</th>\n",
       "      <th>SIZE</th>\n",
       "      <th>LAST_MODIFIED</th>\n",
       "      <th>MD5</th>\n",
       "      <th>ETAG</th>\n",
       "      <th>FILE_URL</th>\n",
       "    </tr>\n",
       "  </thead>\n",
       "  <tbody>\n",
       "    <tr>\n",
       "      <th>0</th>\n",
       "      <td>0</td>\n",
       "      <td>.DS_Store</td>\n",
       "      <td>6148</td>\n",
       "      <td>2025-10-04T23:55:36.000Z</td>\n",
       "      <td>d1a94d7071b86fdca1d9fc2e0eb18f27</td>\n",
       "      <td>d1a94d7071b86fdca1d9fc2e0eb18f27</td>\n",
       "      <td>https://fic66707.us-east-1.snowflakecomputing.com/api/files/CC_CORTEX_AGENTS_SUMMIT/PUBLIC/DOCS/%2eDS_Store</td>\n",
       "    </tr>\n",
       "    <tr>\n",
       "      <th>1</th>\n",
       "      <td>1</td>\n",
       "      <td>Carver Skis Specification Guide.pdf</td>\n",
       "      <td>69016</td>\n",
       "      <td>2025-10-04T23:55:36.000Z</td>\n",
       "      <td>df4846b5fd21d53b33519742deeda73d</td>\n",
       "      <td>df4846b5fd21d53b33519742deeda73d</td>\n",
       "      <td>https://fic66707.us-east-1.snowflakecomputing.com/api/files/CC_CORTEX_AGENTS_SUMMIT/PUBLIC/DOCS/Carver%20Skis%20Specification%20Guide%2epdf</td>\n",
       "    </tr>\n",
       "    <tr>\n",
       "      <th>2</th>\n",
       "      <td>2</td>\n",
       "      <td>Mondracer_Infant_Bike.pdf</td>\n",
       "      <td>30551</td>\n",
       "      <td>2025-10-04T23:55:36.000Z</td>\n",
       "      <td>48b3bd292756253e446e4692844f137f</td>\n",
       "      <td>48b3bd292756253e446e4692844f137f</td>\n",
       "      <td>https://fic66707.us-east-1.snowflakecomputing.com/api/files/CC_CORTEX_AGENTS_SUMMIT/PUBLIC/DOCS/Mondracer_Infant_Bike%2epdf</td>\n",
       "    </tr>\n",
       "    <tr>\n",
       "      <th>3</th>\n",
       "      <td>3</td>\n",
       "      <td>OutPiste Skis Specification Guide.pdf</td>\n",
       "      <td>70512</td>\n",
       "      <td>2025-10-04T23:55:36.000Z</td>\n",
       "      <td>6230ac2b68247610114c3bbd3e36542b</td>\n",
       "      <td>6230ac2b68247610114c3bbd3e36542b</td>\n",
       "      <td>https://fic66707.us-east-1.snowflakecomputing.com/api/files/CC_CORTEX_AGENTS_SUMMIT/PUBLIC/DOCS/OutPiste%20Skis%20Specification%20Guide%2epdf</td>\n",
       "    </tr>\n",
       "    <tr>\n",
       "      <th>4</th>\n",
       "      <td>4</td>\n",
       "      <td>Outpiste_Skis.jpeg</td>\n",
       "      <td>109037</td>\n",
       "      <td>2025-10-04T23:55:36.000Z</td>\n",
       "      <td>dd3f31f174785fe1b20e39070b4022b2</td>\n",
       "      <td>dd3f31f174785fe1b20e39070b4022b2</td>\n",
       "      <td>https://fic66707.us-east-1.snowflakecomputing.com/api/files/CC_CORTEX_AGENTS_SUMMIT/PUBLIC/DOCS/Outpiste_Skis%2ejpeg</td>\n",
       "    </tr>\n",
       "    <tr>\n",
       "      <th>5</th>\n",
       "      <td>5</td>\n",
       "      <td>Premium_Bicycle_1.jpeg</td>\n",
       "      <td>83032</td>\n",
       "      <td>2025-10-04T23:55:36.000Z</td>\n",
       "      <td>94f729c6d0975a7a675874f734bee6a8</td>\n",
       "      <td>94f729c6d0975a7a675874f734bee6a8</td>\n",
       "      <td>https://fic66707.us-east-1.snowflakecomputing.com/api/files/CC_CORTEX_AGENTS_SUMMIT/PUBLIC/DOCS/Premium_Bicycle_1%2ejpeg</td>\n",
       "    </tr>\n",
       "    <tr>\n",
       "      <th>6</th>\n",
       "      <td>6</td>\n",
       "      <td>Premium_Bicycle_2.jpeg</td>\n",
       "      <td>146669</td>\n",
       "      <td>2025-10-04T23:55:36.000Z</td>\n",
       "      <td>f5f69f504af54720922e9b543968f62c</td>\n",
       "      <td>f5f69f504af54720922e9b543968f62c</td>\n",
       "      <td>https://fic66707.us-east-1.snowflakecomputing.com/api/files/CC_CORTEX_AGENTS_SUMMIT/PUBLIC/DOCS/Premium_Bicycle_2%2ejpeg</td>\n",
       "    </tr>\n",
       "    <tr>\n",
       "      <th>7</th>\n",
       "      <td>7</td>\n",
       "      <td>Premium_Bicycle_3.jpeg</td>\n",
       "      <td>134331</td>\n",
       "      <td>2025-10-04T23:55:36.000Z</td>\n",
       "      <td>122f87f10b72a1d8dfcd5faaeb927c27</td>\n",
       "      <td>122f87f10b72a1d8dfcd5faaeb927c27</td>\n",
       "      <td>https://fic66707.us-east-1.snowflakecomputing.com/api/files/CC_CORTEX_AGENTS_SUMMIT/PUBLIC/DOCS/Premium_Bicycle_3%2ejpeg</td>\n",
       "    </tr>\n",
       "    <tr>\n",
       "      <th>8</th>\n",
       "      <td>8</td>\n",
       "      <td>Premium_Bicycle_4.jpeg</td>\n",
       "      <td>128762</td>\n",
       "      <td>2025-10-04T23:55:36.000Z</td>\n",
       "      <td>e0cdeb647a5fe0c7e4b2d7f15c8b2dae</td>\n",
       "      <td>e0cdeb647a5fe0c7e4b2d7f15c8b2dae</td>\n",
       "      <td>https://fic66707.us-east-1.snowflakecomputing.com/api/files/CC_CORTEX_AGENTS_SUMMIT/PUBLIC/DOCS/Premium_Bicycle_4%2ejpeg</td>\n",
       "    </tr>\n",
       "    <tr>\n",
       "      <th>9</th>\n",
       "      <td>9</td>\n",
       "      <td>Premium_Bicycle_User_Guide.pdf</td>\n",
       "      <td>52418</td>\n",
       "      <td>2025-10-04T23:55:36.000Z</td>\n",
       "      <td>40f2cb6ec00717a100921c02821fba7f</td>\n",
       "      <td>40f2cb6ec00717a100921c02821fba7f</td>\n",
       "      <td>https://fic66707.us-east-1.snowflakecomputing.com/api/files/CC_CORTEX_AGENTS_SUMMIT/PUBLIC/DOCS/Premium_Bicycle_User_Guide%2epdf</td>\n",
       "    </tr>\n",
       "    <tr>\n",
       "      <th>10</th>\n",
       "      <td>10</td>\n",
       "      <td>RacingFast Skis Specification Guide.pdf</td>\n",
       "      <td>70668</td>\n",
       "      <td>2025-10-04T23:55:36.000Z</td>\n",
       "      <td>17f017458dd83fb46f4958cf8f3188e2</td>\n",
       "      <td>17f017458dd83fb46f4958cf8f3188e2</td>\n",
       "      <td>https://fic66707.us-east-1.snowflakecomputing.com/api/files/CC_CORTEX_AGENTS_SUMMIT/PUBLIC/DOCS/RacingFast%20Skis%20Specification%20Guide%2epdf</td>\n",
       "    </tr>\n",
       "    <tr>\n",
       "      <th>11</th>\n",
       "      <td>11</td>\n",
       "      <td>Racing_Fast_Skis.jpeg</td>\n",
       "      <td>44147</td>\n",
       "      <td>2025-10-04T23:55:36.000Z</td>\n",
       "      <td>0c4e97389c853c83f4d02dbdc2e0b98a</td>\n",
       "      <td>0c4e97389c853c83f4d02dbdc2e0b98a</td>\n",
       "      <td>https://fic66707.us-east-1.snowflakecomputing.com/api/files/CC_CORTEX_AGENTS_SUMMIT/PUBLIC/DOCS/Racing_Fast_Skis%2ejpeg</td>\n",
       "    </tr>\n",
       "    <tr>\n",
       "      <th>12</th>\n",
       "      <td>12</td>\n",
       "      <td>Ski_Boots_TDBootz_Special.jpg</td>\n",
       "      <td>74768</td>\n",
       "      <td>2025-10-04T23:55:36.000Z</td>\n",
       "      <td>6e0dbe3fde9ac8c4d620baacf0d5ab79</td>\n",
       "      <td>6e0dbe3fde9ac8c4d620baacf0d5ab79</td>\n",
       "      <td>https://fic66707.us-east-1.snowflakecomputing.com/api/files/CC_CORTEX_AGENTS_SUMMIT/PUBLIC/DOCS/Ski_Boots_TDBootz_Special%2ejpg</td>\n",
       "    </tr>\n",
       "    <tr>\n",
       "      <th>13</th>\n",
       "      <td>13</td>\n",
       "      <td>Ski_Boots_TDBootz_Special.pdf</td>\n",
       "      <td>57850</td>\n",
       "      <td>2025-10-04T23:55:36.000Z</td>\n",
       "      <td>50f737ad0e1598188bf8545b913eae36</td>\n",
       "      <td>50f737ad0e1598188bf8545b913eae36</td>\n",
       "      <td>https://fic66707.us-east-1.snowflakecomputing.com/api/files/CC_CORTEX_AGENTS_SUMMIT/PUBLIC/DOCS/Ski_Boots_TDBootz_Special%2epdf</td>\n",
       "    </tr>\n",
       "    <tr>\n",
       "      <th>14</th>\n",
       "      <td>14</td>\n",
       "      <td>The_Ultimate_Downhill_Bike.pdf</td>\n",
       "      <td>60380</td>\n",
       "      <td>2025-10-04T23:55:36.000Z</td>\n",
       "      <td>81a1b412ae3d3e0204db50d319f338f9</td>\n",
       "      <td>81a1b412ae3d3e0204db50d319f338f9</td>\n",
       "      <td>https://fic66707.us-east-1.snowflakecomputing.com/api/files/CC_CORTEX_AGENTS_SUMMIT/PUBLIC/DOCS/The_Ultimate_Downhill_Bike%2epdf</td>\n",
       "    </tr>\n",
       "    <tr>\n",
       "      <th>15</th>\n",
       "      <td>15</td>\n",
       "      <td>The_Ultimate_Downhill_Bike_1.jpeg</td>\n",
       "      <td>75026</td>\n",
       "      <td>2025-10-04T23:55:36.000Z</td>\n",
       "      <td>f5c36144940cf4063078feddf068fc9c</td>\n",
       "      <td>f5c36144940cf4063078feddf068fc9c</td>\n",
       "      <td>https://fic66707.us-east-1.snowflakecomputing.com/api/files/CC_CORTEX_AGENTS_SUMMIT/PUBLIC/DOCS/The_Ultimate_Downhill_Bike_1%2ejpeg</td>\n",
       "    </tr>\n",
       "    <tr>\n",
       "      <th>16</th>\n",
       "      <td>16</td>\n",
       "      <td>The_Ultimate_Downhill_Bike_2.jpeg</td>\n",
       "      <td>135213</td>\n",
       "      <td>2025-10-04T23:55:36.000Z</td>\n",
       "      <td>1db928546cb598227fcda3439e02ce91</td>\n",
       "      <td>1db928546cb598227fcda3439e02ce91</td>\n",
       "      <td>https://fic66707.us-east-1.snowflakecomputing.com/api/files/CC_CORTEX_AGENTS_SUMMIT/PUBLIC/DOCS/The_Ultimate_Downhill_Bike_2%2ejpeg</td>\n",
       "    </tr>\n",
       "    <tr>\n",
       "      <th>17</th>\n",
       "      <td>17</td>\n",
       "      <td>The_Xtreme_Road_Bike_1.jpeg</td>\n",
       "      <td>73526</td>\n",
       "      <td>2025-10-04T23:55:36.000Z</td>\n",
       "      <td>e24f48fb3d90182afb7bfbb964e983ff</td>\n",
       "      <td>e24f48fb3d90182afb7bfbb964e983ff</td>\n",
       "      <td>https://fic66707.us-east-1.snowflakecomputing.com/api/files/CC_CORTEX_AGENTS_SUMMIT/PUBLIC/DOCS/The_Xtreme_Road_Bike_1%2ejpeg</td>\n",
       "    </tr>\n",
       "    <tr>\n",
       "      <th>18</th>\n",
       "      <td>18</td>\n",
       "      <td>The_Xtreme_Road_Bike_105_SL.pdf</td>\n",
       "      <td>40787</td>\n",
       "      <td>2025-10-04T23:55:36.000Z</td>\n",
       "      <td>3d6a927cfd1cfb35ed13ba10a33643b2</td>\n",
       "      <td>3d6a927cfd1cfb35ed13ba10a33643b2</td>\n",
       "      <td>https://fic66707.us-east-1.snowflakecomputing.com/api/files/CC_CORTEX_AGENTS_SUMMIT/PUBLIC/DOCS/The_Xtreme_Road_Bike_105_SL%2epdf</td>\n",
       "    </tr>\n",
       "    <tr>\n",
       "      <th>19</th>\n",
       "      <td>19</td>\n",
       "      <td>The_Xtreme_Road_Bike_2.jpeg</td>\n",
       "      <td>61101</td>\n",
       "      <td>2025-10-04T23:55:36.000Z</td>\n",
       "      <td>3c770679f4be514acd51f82de0faa13b</td>\n",
       "      <td>3c770679f4be514acd51f82de0faa13b</td>\n",
       "      <td>https://fic66707.us-east-1.snowflakecomputing.com/api/files/CC_CORTEX_AGENTS_SUMMIT/PUBLIC/DOCS/The_Xtreme_Road_Bike_2%2ejpeg</td>\n",
       "    </tr>\n",
       "    <tr>\n",
       "      <th>20</th>\n",
       "      <td>20</td>\n",
       "      <td>The_Xtreme_Road_Bike_3.jpeg</td>\n",
       "      <td>56301</td>\n",
       "      <td>2025-10-04T23:55:36.000Z</td>\n",
       "      <td>6e4dea0243b339839b31ffb587c03781</td>\n",
       "      <td>6e4dea0243b339839b31ffb587c03781</td>\n",
       "      <td>https://fic66707.us-east-1.snowflakecomputing.com/api/files/CC_CORTEX_AGENTS_SUMMIT/PUBLIC/DOCS/The_Xtreme_Road_Bike_3%2ejpeg</td>\n",
       "    </tr>\n",
       "    <tr>\n",
       "      <th>21</th>\n",
       "      <td>21</td>\n",
       "      <td>The_Xtreme_Road_Bike_4.jpeg</td>\n",
       "      <td>73094</td>\n",
       "      <td>2025-10-04T23:55:36.000Z</td>\n",
       "      <td>bfe8331c136b915826e6387211e0c75b</td>\n",
       "      <td>bfe8331c136b915826e6387211e0c75b</td>\n",
       "      <td>https://fic66707.us-east-1.snowflakecomputing.com/api/files/CC_CORTEX_AGENTS_SUMMIT/PUBLIC/DOCS/The_Xtreme_Road_Bike_4%2ejpeg</td>\n",
       "    </tr>\n",
       "    <tr>\n",
       "      <th>22</th>\n",
       "      <td>22</td>\n",
       "      <td>The_Xtreme_Road_Bike_5.jpeg</td>\n",
       "      <td>67899</td>\n",
       "      <td>2025-10-04T23:55:36.000Z</td>\n",
       "      <td>45d127b3f471358b5de2be1bf7295303</td>\n",
       "      <td>45d127b3f471358b5de2be1bf7295303</td>\n",
       "      <td>https://fic66707.us-east-1.snowflakecomputing.com/api/files/CC_CORTEX_AGENTS_SUMMIT/PUBLIC/DOCS/The_Xtreme_Road_Bike_5%2ejpeg</td>\n",
       "    </tr>\n",
       "  </tbody>\n",
       "</table>"
      ],
      "text/plain": [
       "    Unnamed: 0                            RELATIVE_PATH    SIZE             LAST_MODIFIED                               MD5                              ETAG                                                                                                                                         FILE_URL\n",
       "0            0                                .DS_Store    6148  2025-10-04T23:55:36.000Z  d1a94d7071b86fdca1d9fc2e0eb18f27  d1a94d7071b86fdca1d9fc2e0eb18f27                                      https://fic66707.us-east-1.snowflakecomputing.com/api/files/CC_CORTEX_AGENTS_SUMMIT/PUBLIC/DOCS/%2eDS_Store\n",
       "1            1      Carver Skis Specification Guide.pdf   69016  2025-10-04T23:55:36.000Z  df4846b5fd21d53b33519742deeda73d  df4846b5fd21d53b33519742deeda73d      https://fic66707.us-east-1.snowflakecomputing.com/api/files/CC_CORTEX_AGENTS_SUMMIT/PUBLIC/DOCS/Carver%20Skis%20Specification%20Guide%2epdf\n",
       "2            2                Mondracer_Infant_Bike.pdf   30551  2025-10-04T23:55:36.000Z  48b3bd292756253e446e4692844f137f  48b3bd292756253e446e4692844f137f                      https://fic66707.us-east-1.snowflakecomputing.com/api/files/CC_CORTEX_AGENTS_SUMMIT/PUBLIC/DOCS/Mondracer_Infant_Bike%2epdf\n",
       "3            3    OutPiste Skis Specification Guide.pdf   70512  2025-10-04T23:55:36.000Z  6230ac2b68247610114c3bbd3e36542b  6230ac2b68247610114c3bbd3e36542b    https://fic66707.us-east-1.snowflakecomputing.com/api/files/CC_CORTEX_AGENTS_SUMMIT/PUBLIC/DOCS/OutPiste%20Skis%20Specification%20Guide%2epdf\n",
       "4            4                       Outpiste_Skis.jpeg  109037  2025-10-04T23:55:36.000Z  dd3f31f174785fe1b20e39070b4022b2  dd3f31f174785fe1b20e39070b4022b2                             https://fic66707.us-east-1.snowflakecomputing.com/api/files/CC_CORTEX_AGENTS_SUMMIT/PUBLIC/DOCS/Outpiste_Skis%2ejpeg\n",
       "5            5                   Premium_Bicycle_1.jpeg   83032  2025-10-04T23:55:36.000Z  94f729c6d0975a7a675874f734bee6a8  94f729c6d0975a7a675874f734bee6a8                         https://fic66707.us-east-1.snowflakecomputing.com/api/files/CC_CORTEX_AGENTS_SUMMIT/PUBLIC/DOCS/Premium_Bicycle_1%2ejpeg\n",
       "6            6                   Premium_Bicycle_2.jpeg  146669  2025-10-04T23:55:36.000Z  f5f69f504af54720922e9b543968f62c  f5f69f504af54720922e9b543968f62c                         https://fic66707.us-east-1.snowflakecomputing.com/api/files/CC_CORTEX_AGENTS_SUMMIT/PUBLIC/DOCS/Premium_Bicycle_2%2ejpeg\n",
       "7            7                   Premium_Bicycle_3.jpeg  134331  2025-10-04T23:55:36.000Z  122f87f10b72a1d8dfcd5faaeb927c27  122f87f10b72a1d8dfcd5faaeb927c27                         https://fic66707.us-east-1.snowflakecomputing.com/api/files/CC_CORTEX_AGENTS_SUMMIT/PUBLIC/DOCS/Premium_Bicycle_3%2ejpeg\n",
       "8            8                   Premium_Bicycle_4.jpeg  128762  2025-10-04T23:55:36.000Z  e0cdeb647a5fe0c7e4b2d7f15c8b2dae  e0cdeb647a5fe0c7e4b2d7f15c8b2dae                         https://fic66707.us-east-1.snowflakecomputing.com/api/files/CC_CORTEX_AGENTS_SUMMIT/PUBLIC/DOCS/Premium_Bicycle_4%2ejpeg\n",
       "9            9           Premium_Bicycle_User_Guide.pdf   52418  2025-10-04T23:55:36.000Z  40f2cb6ec00717a100921c02821fba7f  40f2cb6ec00717a100921c02821fba7f                 https://fic66707.us-east-1.snowflakecomputing.com/api/files/CC_CORTEX_AGENTS_SUMMIT/PUBLIC/DOCS/Premium_Bicycle_User_Guide%2epdf\n",
       "10          10  RacingFast Skis Specification Guide.pdf   70668  2025-10-04T23:55:36.000Z  17f017458dd83fb46f4958cf8f3188e2  17f017458dd83fb46f4958cf8f3188e2  https://fic66707.us-east-1.snowflakecomputing.com/api/files/CC_CORTEX_AGENTS_SUMMIT/PUBLIC/DOCS/RacingFast%20Skis%20Specification%20Guide%2epdf\n",
       "11          11                    Racing_Fast_Skis.jpeg   44147  2025-10-04T23:55:36.000Z  0c4e97389c853c83f4d02dbdc2e0b98a  0c4e97389c853c83f4d02dbdc2e0b98a                          https://fic66707.us-east-1.snowflakecomputing.com/api/files/CC_CORTEX_AGENTS_SUMMIT/PUBLIC/DOCS/Racing_Fast_Skis%2ejpeg\n",
       "12          12            Ski_Boots_TDBootz_Special.jpg   74768  2025-10-04T23:55:36.000Z  6e0dbe3fde9ac8c4d620baacf0d5ab79  6e0dbe3fde9ac8c4d620baacf0d5ab79                  https://fic66707.us-east-1.snowflakecomputing.com/api/files/CC_CORTEX_AGENTS_SUMMIT/PUBLIC/DOCS/Ski_Boots_TDBootz_Special%2ejpg\n",
       "13          13            Ski_Boots_TDBootz_Special.pdf   57850  2025-10-04T23:55:36.000Z  50f737ad0e1598188bf8545b913eae36  50f737ad0e1598188bf8545b913eae36                  https://fic66707.us-east-1.snowflakecomputing.com/api/files/CC_CORTEX_AGENTS_SUMMIT/PUBLIC/DOCS/Ski_Boots_TDBootz_Special%2epdf\n",
       "14          14           The_Ultimate_Downhill_Bike.pdf   60380  2025-10-04T23:55:36.000Z  81a1b412ae3d3e0204db50d319f338f9  81a1b412ae3d3e0204db50d319f338f9                 https://fic66707.us-east-1.snowflakecomputing.com/api/files/CC_CORTEX_AGENTS_SUMMIT/PUBLIC/DOCS/The_Ultimate_Downhill_Bike%2epdf\n",
       "15          15        The_Ultimate_Downhill_Bike_1.jpeg   75026  2025-10-04T23:55:36.000Z  f5c36144940cf4063078feddf068fc9c  f5c36144940cf4063078feddf068fc9c              https://fic66707.us-east-1.snowflakecomputing.com/api/files/CC_CORTEX_AGENTS_SUMMIT/PUBLIC/DOCS/The_Ultimate_Downhill_Bike_1%2ejpeg\n",
       "16          16        The_Ultimate_Downhill_Bike_2.jpeg  135213  2025-10-04T23:55:36.000Z  1db928546cb598227fcda3439e02ce91  1db928546cb598227fcda3439e02ce91              https://fic66707.us-east-1.snowflakecomputing.com/api/files/CC_CORTEX_AGENTS_SUMMIT/PUBLIC/DOCS/The_Ultimate_Downhill_Bike_2%2ejpeg\n",
       "17          17              The_Xtreme_Road_Bike_1.jpeg   73526  2025-10-04T23:55:36.000Z  e24f48fb3d90182afb7bfbb964e983ff  e24f48fb3d90182afb7bfbb964e983ff                    https://fic66707.us-east-1.snowflakecomputing.com/api/files/CC_CORTEX_AGENTS_SUMMIT/PUBLIC/DOCS/The_Xtreme_Road_Bike_1%2ejpeg\n",
       "18          18          The_Xtreme_Road_Bike_105_SL.pdf   40787  2025-10-04T23:55:36.000Z  3d6a927cfd1cfb35ed13ba10a33643b2  3d6a927cfd1cfb35ed13ba10a33643b2                https://fic66707.us-east-1.snowflakecomputing.com/api/files/CC_CORTEX_AGENTS_SUMMIT/PUBLIC/DOCS/The_Xtreme_Road_Bike_105_SL%2epdf\n",
       "19          19              The_Xtreme_Road_Bike_2.jpeg   61101  2025-10-04T23:55:36.000Z  3c770679f4be514acd51f82de0faa13b  3c770679f4be514acd51f82de0faa13b                    https://fic66707.us-east-1.snowflakecomputing.com/api/files/CC_CORTEX_AGENTS_SUMMIT/PUBLIC/DOCS/The_Xtreme_Road_Bike_2%2ejpeg\n",
       "20          20              The_Xtreme_Road_Bike_3.jpeg   56301  2025-10-04T23:55:36.000Z  6e4dea0243b339839b31ffb587c03781  6e4dea0243b339839b31ffb587c03781                    https://fic66707.us-east-1.snowflakecomputing.com/api/files/CC_CORTEX_AGENTS_SUMMIT/PUBLIC/DOCS/The_Xtreme_Road_Bike_3%2ejpeg\n",
       "21          21              The_Xtreme_Road_Bike_4.jpeg   73094  2025-10-04T23:55:36.000Z  bfe8331c136b915826e6387211e0c75b  bfe8331c136b915826e6387211e0c75b                    https://fic66707.us-east-1.snowflakecomputing.com/api/files/CC_CORTEX_AGENTS_SUMMIT/PUBLIC/DOCS/The_Xtreme_Road_Bike_4%2ejpeg\n",
       "22          22              The_Xtreme_Road_Bike_5.jpeg   67899  2025-10-04T23:55:36.000Z  45d127b3f471358b5de2be1bf7295303  45d127b3f471358b5de2be1bf7295303                    https://fic66707.us-east-1.snowflakecomputing.com/api/files/CC_CORTEX_AGENTS_SUMMIT/PUBLIC/DOCS/The_Xtreme_Road_Bike_5%2ejpeg"
      ]
     },
     "execution_count": 1,
     "metadata": {},
     "output_type": "execute_result"
    }
   ],
   "source": [
    "-- Check what documents are available\n",
    "SELECT * FROM DIRECTORY('@DOCS');"
   ]
  },
  {
   "cell_type": "markdown",
   "id": "78b90d93-69b4-4d6e-b9da-91afd1a2fddc",
   "metadata": {
    "collapsed": false,
    "name": "cell11"
   },
   "source": [
    "Read the PDF File"
   ]
  },
  {
   "cell_type": "code",
   "execution_count": null,
   "id": "c695373e-ac74-4b62-a1f1-08206cbd5c81",
   "metadata": {
    "language": "sql",
    "name": "parse_bikes_docs"
   },
   "outputs": [],
   "source": [
    "CREATE OR REPLACE TEMPORARY TABLE RAW_TEXT AS\n",
    "SELECT \n",
    "    RELATIVE_PATH,\n",
    "    TO_VARCHAR (\n",
    "        SNOWFLAKE.CORTEX.PARSE_DOCUMENT (\n",
    "            '@DOCS',\n",
    "            RELATIVE_PATH,\n",
    "            {'mode': 'LAYOUT'} ):content\n",
    "        ) AS EXTRACTED_LAYOUT \n",
    "FROM \n",
    "    DIRECTORY('@DOCS')\n",
    "WHERE\n",
    "    RELATIVE_PATH LIKE '%.pdf';"
   ]
  },
  {
   "cell_type": "markdown",
   "id": "846f0708-0958-4e5c-aa11-8b5a0ec2ceef",
   "metadata": {
    "collapsed": false,
    "name": "cell4"
   },
   "source": [
    "Check the content"
   ]
  },
  {
   "cell_type": "code",
   "execution_count": null,
   "id": "3621c481-9b70-4d45-89f8-2d6d9e60827d",
   "metadata": {
    "language": "sql",
    "name": "cell6"
   },
   "outputs": [],
   "source": [
    "SELECT * FROM RAW_TEXT LIMIT 5;"
   ]
  },
  {
   "cell_type": "markdown",
   "id": "132582de-f23d-4f51-bbf9-44674d30592c",
   "metadata": {
    "collapsed": false,
    "name": "cell8"
   },
   "source": [
    "Create the table that will be used by Cortex Search Service as a Tool for Cortex Agents in order to retrieve information from PDF and JPEG files:"
   ]
  },
  {
   "cell_type": "code",
   "execution_count": null,
   "id": "17281011-347a-4333-86df-b2689a85a221",
   "metadata": {
    "language": "sql",
    "name": "cell9"
   },
   "outputs": [],
   "source": [
    "CREATE OR REPLACE TABLE DOCS_CHUNKS_TABLE ( \n",
    "    RELATIVE_PATH VARCHAR(16777216), -- Relative path to the PDF file\n",
    "    CHUNK VARCHAR(16777216),         -- Piece of text\n",
    "    CHUNK_INDEX INTEGER,             -- Index for text\n",
    "    CATEGORY VARCHAR(16777216)       -- Hold document category for filtering\n",
    ");\n"
   ]
  },
  {
   "cell_type": "markdown",
   "id": "d38c2af2-970d-4001-ab3f-c33271b3770a",
   "metadata": {
    "collapsed": false,
    "name": "cell12"
   },
   "source": [
    "Split the PDF file into pieces"
   ]
  },
  {
   "cell_type": "code",
   "execution_count": null,
   "id": "2040e105-5e88-4525-8eb1-a92fb40bf4a2",
   "metadata": {
    "language": "sql",
    "name": "split_bikes_docs"
   },
   "outputs": [],
   "source": [
    "INSERT INTO DOCS_CHUNKS_TABLE (relative_path, chunk, chunk_index)\n",
    "    SELECT relative_path,\n",
    "            c.value::TEXT as chunk,\n",
    "            c.INDEX::INTEGER as chunk_index    \n",
    "    FROM \n",
    "        raw_text,\n",
    "        LATERAL FLATTEN( input => SNOWFLAKE.CORTEX.SPLIT_TEXT_RECURSIVE_CHARACTER (\n",
    "              EXTRACTED_LAYOUT,\n",
    "              'markdown',\n",
    "              1512,\n",
    "              256,\n",
    "              ['\\n\\n', '\\n', ' ', '']\n",
    "           )) c;"
   ]
  },
  {
   "cell_type": "markdown",
   "id": "c91eb46a-6257-4826-947d-636d280d46db",
   "metadata": {
    "collapsed": false,
    "name": "cell13"
   },
   "source": [
    "\n",
    "Check the content"
   ]
  },
  {
   "cell_type": "code",
   "execution_count": null,
   "id": "183043db-6148-4409-8bac-b1112d1b93d2",
   "metadata": {
    "language": "sql",
    "name": "create_bikes_rag_tool"
   },
   "outputs": [],
   "source": [
    "SELECT * FROM DOCS_CHUNKS_TABLE limit 7;"
   ]
  },
  {
   "cell_type": "markdown",
   "id": "76428176-e27a-4a02-8439-024a09fd3d55",
   "metadata": {
    "collapsed": false,
    "name": "cell7"
   },
   "source": [
    "We are going to show how `CLASSIFY_TEXT` **Cortex** function to classify the document type. We have 2 classes, Bike and Snow, and we pass the document title and the first chunk of the document to the function."
   ]
  },
  {
   "cell_type": "code",
   "execution_count": null,
   "id": "babe24f7-4486-4d2a-b342-7dda8bce59ef",
   "metadata": {
    "language": "sql",
    "name": "cell10"
   },
   "outputs": [],
   "source": [
    "CREATE OR REPLACE TEMPORARY TABLE docs_categories AS WITH unique_documents AS (\n",
    "  SELECT\n",
    "    DISTINCT relative_path, chunk\n",
    "  FROM\n",
    "    docs_chunks_table\n",
    "  WHERE \n",
    "    chunk_index = 0\n",
    "  ),\n",
    " docs_category_cte AS (\n",
    "  SELECT\n",
    "    relative_path,\n",
    "    TRIM(snowflake.cortex.CLASSIFY_TEXT (\n",
    "      'Title:' || relative_path || 'Content:' || chunk, ['Bike', 'Snow']\n",
    "     )['label'], '\"') AS category\n",
    "  FROM\n",
    "    unique_documents\n",
    ")\n",
    "\n",
    "SELECT * FROM docs_category_cte;"
   ]
  },
  {
   "cell_type": "code",
   "execution_count": null,
   "id": "563deac8-2b50-4c0c-a712-f14eac57e094",
   "metadata": {
    "language": "sql",
    "name": "cell14"
   },
   "outputs": [
    {
     "data": {
      "text/html": [
       "<table border=\"1\" class=\"dataframe\">\n",
       "  <thead>\n",
       "    <tr style=\"text-align: right;\">\n",
       "      <th></th>\n",
       "      <th>Unnamed: 0</th>\n",
       "      <th>RELATIVE_PATH</th>\n",
       "      <th>CATEGORY</th>\n",
       "    </tr>\n",
       "  </thead>\n",
       "  <tbody>\n",
       "    <tr>\n",
       "      <th>0</th>\n",
       "      <td>0</td>\n",
       "      <td>Premium_Bicycle_User_Guide.pdf</td>\n",
       "      <td>Bike</td>\n",
       "    </tr>\n",
       "    <tr>\n",
       "      <th>1</th>\n",
       "      <td>1</td>\n",
       "      <td>Mondracer_Infant_Bike.pdf</td>\n",
       "      <td>Bike</td>\n",
       "    </tr>\n",
       "    <tr>\n",
       "      <th>2</th>\n",
       "      <td>2</td>\n",
       "      <td>The_Ultimate_Downhill_Bike.pdf</td>\n",
       "      <td>Bike</td>\n",
       "    </tr>\n",
       "    <tr>\n",
       "      <th>3</th>\n",
       "      <td>3</td>\n",
       "      <td>The_Xtreme_Road_Bike_105_SL.pdf</td>\n",
       "      <td>Bike</td>\n",
       "    </tr>\n",
       "    <tr>\n",
       "      <th>4</th>\n",
       "      <td>4</td>\n",
       "      <td>RacingFast Skis Specification Guide.pdf</td>\n",
       "      <td>Snow</td>\n",
       "    </tr>\n",
       "    <tr>\n",
       "      <th>5</th>\n",
       "      <td>5</td>\n",
       "      <td>Carver Skis Specification Guide.pdf</td>\n",
       "      <td>Snow</td>\n",
       "    </tr>\n",
       "    <tr>\n",
       "      <th>6</th>\n",
       "      <td>6</td>\n",
       "      <td>OutPiste Skis Specification Guide.pdf</td>\n",
       "      <td>Snow</td>\n",
       "    </tr>\n",
       "    <tr>\n",
       "      <th>7</th>\n",
       "      <td>7</td>\n",
       "      <td>Ski_Boots_TDBootz_Special.pdf</td>\n",
       "      <td>Snow</td>\n",
       "    </tr>\n",
       "  </tbody>\n",
       "</table>"
      ],
      "text/plain": [
       "   Unnamed: 0                            RELATIVE_PATH CATEGORY\n",
       "0           0           Premium_Bicycle_User_Guide.pdf     Bike\n",
       "1           1                Mondracer_Infant_Bike.pdf     Bike\n",
       "2           2           The_Ultimate_Downhill_Bike.pdf     Bike\n",
       "3           3          The_Xtreme_Road_Bike_105_SL.pdf     Bike\n",
       "4           4  RacingFast Skis Specification Guide.pdf     Snow\n",
       "5           5      Carver Skis Specification Guide.pdf     Snow\n",
       "6           6    OutPiste Skis Specification Guide.pdf     Snow\n",
       "7           7            Ski_Boots_TDBootz_Special.pdf     Snow"
      ]
     },
     "execution_count": 1,
     "metadata": {},
     "output_type": "execute_result"
    }
   ],
   "source": [
    "SELECT * FROM docs_categories;"
   ]
  },
  {
   "cell_type": "markdown",
   "id": "ff0cacd7-2e5a-4e8c-8f25-28f3ab9197f5",
   "metadata": {
    "collapsed": false,
    "name": "cell15"
   },
   "source": [
    "Update the table"
   ]
  },
  {
   "cell_type": "code",
   "execution_count": null,
   "id": "2f3cc3b6-8471-4af0-b562-67e6174eb565",
   "metadata": {
    "language": "sql",
    "name": "cell16"
   },
   "outputs": [],
   "source": [
    "UPDATE docs_chunks_table \n",
    "    SET category = docs_categories.category\n",
    "    FROM docs_categories\n",
    "    WHERE  docs_chunks_table.relative_path = docs_categories.relative_path;"
   ]
  },
  {
   "cell_type": "markdown",
   "id": "352527e8-4b98-4c08-8c01-c3758a9ca91e",
   "metadata": {
    "collapsed": false,
    "name": "cell18"
   },
   "source": [
    "### IMAGES\n",
    "\n",
    "Now let's process the images we have for our bikes and skies. Let's use `COMPLETE` multi-modeal function asking for an image description and classification. We add it into the `DOCS_CHUNKS_TABLE` table where we also have the PDF documentation:"
   ]
  },
  {
   "cell_type": "code",
   "execution_count": null,
   "id": "1fe08185-7dc3-4227-b2f1-f6ee1697d714",
   "metadata": {
    "language": "sql",
    "name": "cell20"
   },
   "outputs": [],
   "source": [
    "INSERT INTO DOCS_CHUNKS_TABLE (relative_path, chunk, chunk_index, category)\n",
    "SELECT\n",
    "    RELATIVE_PATH,\n",
    "    CONCAT('This is a picture describing the bike: '|| RELATIVE_PATH || \n",
    "        'THIS IS THE DESCRIPTION: ' ||\n",
    "        SNOWFLAKE.CORTEX.COMPLETE('claude-3-5-sonnet',\n",
    "        'DESCRIBE THIS IMAGE: ',\n",
    "        TO_FILE('@DOCS', RELATIVE_PATH))) as chunk,\n",
    "    0,\n",
    "    SNOWFLAKE.CORTEX.COMPLETE('claude-3-5-sonnet',\n",
    "        'Classify this image, respond only with Bike or Snow: ',\n",
    "        TO_FILE('@DOCS', RELATIVE_PATH)) as category,\n",
    "FROM\n",
    "    DIRECTORY('@DOCS')\n",
    "WHERE\n",
    "    RELATIVE_PATH LIKE '%.jpeg';\n"
   ]
  },
  {
   "cell_type": "markdown",
   "id": "b89ec636-a18b-4135-bf0f-43acd7e75b09",
   "metadata": {
    "collapsed": false,
    "name": "cell21"
   },
   "source": [
    "Check the descriptions:"
   ]
  },
  {
   "cell_type": "code",
   "execution_count": null,
   "id": "206862d8-ea66-456b-a297-b4750cd02971",
   "metadata": {
    "language": "sql",
    "name": "cell22"
   },
   "outputs": [],
   "source": [
    "SELECT * FROM DOCS_CHUNKS_TABLE WHERE RELATIVE_PATH LIKE '%.jpeg';"
   ]
  },
  {
   "cell_type": "markdown",
   "id": "e1505035-726b-4447-b182-84a3707f015d",
   "metadata": {
    "collapsed": false,
    "name": "cell24"
   },
   "source": [
    "### Enable Cortex Search\n",
    "\n",
    "**Cortex Search** is the Tool that is used to retrieve context from unstructured data. Once we processed all the content from PDF and IMAGES into `DOCS_CHUNK_TABLE`, we just need to enable the service in that table. This will create the embeddings, indexing, etc. _automatically_."
   ]
  },
  {
   "cell_type": "code",
   "execution_count": null,
   "id": "4a2d90b8-2ad6-4470-9b65-64769fdbbfe0",
   "metadata": {
    "language": "sql",
    "name": "cell26"
   },
   "outputs": [],
   "source": [
    "-- CREATE THE WH IF DOES NOT EXISTS\n",
    "CREATE WAREHOUSE IF NOT EXISTS COMPUTE_WH\n",
    "WAREHOUSE_SIZE = 'XSMALL';"
   ]
  },
  {
   "cell_type": "code",
   "execution_count": null,
   "id": "77174449-fc9c-4551-9563-5f10930a5aa2",
   "metadata": {
    "language": "sql",
    "name": "cell25"
   },
   "outputs": [],
   "source": [
    "CREATE OR REPLACE CORTEX SEARCH SERVICE DOCUMENTATION_TOOL\n",
    "ON chunk\n",
    "ATTRIBUTES relative_path, category\n",
    "warehouse = COMPUTE_WH\n",
    "TARGET_LAG = '1 hour'\n",
    "EMBEDDING_MODEL = 'snowflake-arctic-embed-l-v2.0'\n",
    "AS (\n",
    "    SELECT chunk, chunk_index, relative_path, category\n",
    "    FROM docs_chunks_table\n",
    ");"
   ]
  },
  {
   "cell_type": "markdown",
   "id": "a50af6f6-c1a9-4116-b485-897a5187dd92",
   "metadata": {
    "collapsed": false,
    "name": "cell17"
   },
   "source": [
    "#### Test the API for the Tool\n",
    "Let's test if service is working before configuring the Cortex Agent"
   ]
  },
  {
   "cell_type": "code",
   "execution_count": null,
   "id": "2ad356fb-c15d-4796-81c5-70276d4872c3",
   "metadata": {
    "language": "python",
    "name": "test_api"
   },
   "outputs": [],
   "source": [
    "from snowflake.core import Root\n",
    "from snowflake.cortex import complete\n",
    "\n",
    "root = Root(get_active_session())\n",
    "\n",
    "question = 'Who tested the downhill bike'\n",
    "\n",
    "# Fetch service\n",
    "my_service = (root.databases[\"CC_CORTEX_AGENTS_SUMMIT\"]\n",
    "                  .schemas[\"PUBLIC\"]\n",
    "                  .cortex_search_services[\"DOCUMENTATION_TOOL\"])\n",
    "\n",
    "# Query service\n",
    "resp = my_service.search(query=question,\n",
    "                         columns=[\"CHUNK_INDEX\", \"CHUNK\", \"RELATIVE_PATH\"],\n",
    "                         limit=1)\n",
    "resp = resp.results[0]\n",
    "\n",
    "st.info(f'**File:** {resp[\"RELATIVE_PATH\"]}\\n\\n {resp[\"CHUNK\"]}')\n",
    "\n",
    "# Generate Response\n",
    "model = 'mistral-large2'\n",
    "prompt = f\"{question} Answer based on the provided context: {resp['CHUNK']}\"\n",
    "response = complete(model, prompt).strip()\n",
    "\n",
    "st.info(f'**LLM Response:**\\n\\n**{response}**')"
   ]
  },
  {
   "cell_type": "markdown",
   "id": "0d92e083-2415-4c42-aa87-80187831c8bb",
   "metadata": {
    "collapsed": false,
    "name": "cell19"
   },
   "source": [
    "## Tools for Structured Data (Cortex Analyst)\n",
    "\n",
    "Another Tool that we will provide to the Cortex Agent is Cortex Analyst which provides the capability to extract info from Snowflake Tables. In the API call, we will provide the location of a Semantic file that contains info about the business terminology to describe the data.\n",
    "\n",
    "First, let's create some syntethic data about the bikes and ski products we have.\n",
    "\n",
    "**DIM_ARTICLE – Article/Item Dimension**\n",
    "\n",
    "Purpose: Stores descriptive information about the products (articles) being sold.\n",
    "\n",
    "Key Columns:\n",
    "\n",
    "- **ARTICLE_ID** (Primary Key): Unique identifier for each article.\n",
    "- **ARTICLE_NAME**: Full name/description of the product.\n",
    "- **ARTICLE_CATEGORY**: Product category (e.g., Bike, Skis, Ski Boots).\n",
    "- **ARTICLE_BRAND**: Manufacturer or brand (e.g., Mondracer, Carver).\n",
    "- **ARTICLE_COLOR**: Dominant color for the article.\n",
    "- **ARTICLE_PRICE**: Standard unit price of the article.\n",
    "\n",
    "\n",
    "**DIM_CUSTOMER – Customer Dimension**\n",
    "\n",
    "Purpose: Contains demographic and segmentation info about each customer.\n",
    "\n",
    "Key Columns:\n",
    "\n",
    "- **CUSTOMER_ID** (Primary Key): Unique identifier for each customer.\n",
    "- **CUSTOMER_NAME**: Display name for the customer.\n",
    "- **CUSTOMER_REGION**: Geographic region (North, South).\n",
    "- **CUSTOMER_AGE**: Age of the customer.\n",
    "- **CUSTOMER_GENDER**: Gender (Male/Female).\n",
    "- **CUSTOMER_SEGMENT**: Marketing segment (Premium, Regular, Occasional).\n",
    "\n",
    "\n",
    "**FACT_SALES – Sales Transactions Fact Table**\n",
    "\n",
    "Purpose: Captures individual sales transactions (facts) with references to article and customer details.\n",
    "\n",
    "Key Columns:\n",
    "\n",
    "- **SALE_ID** (Primary Key): Unique identifier for the transaction.\n",
    "- **ARTICLE_ID** (Foreign Key): Links to DIM_ARTICLE.\n",
    "- **CUSTOMER_ID** (Foreign Key): Links to DIM_CUSTOMER.\n",
    "- **DATE_SALES**: Date when the sale occurred.\n",
    "- **QUANTITY_SOLD**: Number of units sold in the transaction.\n",
    "- **TOTAL_PRICE**: Total transaction value (unit price × quantity).\n",
    "- **SALES_CHANNEL**: Sales channel used (e.g., Online, In-Store, Partner).\n",
    "- **PROMOTION_APPLIED**: Boolean, if the sale involved a promotion/discount."
   ]
  },
  {
   "cell_type": "code",
   "execution_count": null,
   "id": "94632a62-3b94-4d3a-9b1e-98aee4da1ac6",
   "metadata": {
    "language": "sql",
    "name": "create_article_table"
   },
   "outputs": [],
   "source": [
    "CREATE OR REPLACE TABLE DIM_ARTICLE (\n",
    "    ARTICLE_ID INT PRIMARY KEY,\n",
    "    ARTICLE_NAME STRING,\n",
    "    ARTICLE_CATEGORY STRING,\n",
    "    ARTICLE_BRAND STRING,\n",
    "    ARTICLE_COLOR STRING,\n",
    "    ARTICLE_PRICE FLOAT\n",
    ");\n",
    "\n",
    "INSERT INTO DIM_ARTICLE (ARTICLE_ID, ARTICLE_NAME, ARTICLE_CATEGORY, ARTICLE_BRAND, ARTICLE_COLOR, ARTICLE_PRICE)\n",
    "VALUES \n",
    "(1, 'Mondracer Infant Bike', 'Bike', 'Mondracer', 'Red', 3000),\n",
    "(2, 'Premium Bicycle', 'Bike', 'Veloci', 'Blue', 9000),\n",
    "(3, 'Ski Boots TDBootz Special', 'Ski Boots', 'TDBootz', 'Black', 600),\n",
    "(4, 'The Ultimate Downhill Bike', 'Bike', 'Graviton', 'Green', 10000),\n",
    "(5, 'The Xtreme Road Bike 105 SL', 'Bike', 'Xtreme', 'White', 8500),\n",
    "(6, 'Carver Skis', 'Skis', 'Carver', 'Orange', 790),\n",
    "(7, 'Outpiste Skis', 'Skis', 'Outpiste', 'Yellow', 900),\n",
    "(8, 'Racing Fast Skis', 'Skis', 'RacerX', 'Blue', 950);"
   ]
  },
  {
   "cell_type": "code",
   "execution_count": null,
   "id": "1cd839a1-2aba-480e-9a7b-3e95b413ce8a",
   "metadata": {
    "language": "sql",
    "name": "create_customer_table"
   },
   "outputs": [],
   "source": [
    "CREATE OR REPLACE TABLE DIM_CUSTOMER (\n",
    "    CUSTOMER_ID INT PRIMARY KEY,\n",
    "    CUSTOMER_NAME STRING,\n",
    "    CUSTOMER_REGION STRING,\n",
    "    CUSTOMER_AGE INT,\n",
    "    CUSTOMER_GENDER STRING,\n",
    "    CUSTOMER_SEGMENT STRING\n",
    ");\n",
    "\n",
    "INSERT INTO DIM_CUSTOMER (CUSTOMER_ID, CUSTOMER_NAME, CUSTOMER_REGION, CUSTOMER_AGE, CUSTOMER_GENDER, CUSTOMER_SEGMENT)\n",
    "SELECT \n",
    "    SEQ4() AS CUSTOMER_ID,\n",
    "    'Customer ' || SEQ4() AS CUSTOMER_NAME,\n",
    "    CASE MOD(SEQ4(), 5)\n",
    "        WHEN 0 THEN 'North'\n",
    "        WHEN 1 THEN 'South'\n",
    "        WHEN 2 THEN 'East'\n",
    "        WHEN 3 THEN 'West'\n",
    "        ELSE 'Central'\n",
    "    END AS CUSTOMER_REGION,\n",
    "    UNIFORM(18, 65, RANDOM()) AS CUSTOMER_AGE,\n",
    "    CASE MOD(SEQ4(), 2)\n",
    "        WHEN 0 THEN 'Male'\n",
    "        ELSE 'Female'\n",
    "    END AS CUSTOMER_GENDER,\n",
    "    CASE MOD(SEQ4(), 3)\n",
    "        WHEN 0 THEN 'Premium'\n",
    "        WHEN 1 THEN 'Regular'\n",
    "        ELSE 'Occasional'\n",
    "    END AS CUSTOMER_SEGMENT\n",
    "FROM TABLE(GENERATOR(ROWCOUNT => 5000));"
   ]
  },
  {
   "cell_type": "code",
   "execution_count": null,
   "id": "f8b1c58e-8c41-444b-8163-386a74ce5ee2",
   "metadata": {
    "language": "sql",
    "name": "create_sales_table"
   },
   "outputs": [],
   "source": [
    "CREATE OR REPLACE TABLE FACT_SALES (\n",
    "    SALE_ID INT PRIMARY KEY,\n",
    "    ARTICLE_ID INT,\n",
    "    DATE_SALES DATE,\n",
    "    CUSTOMER_ID INT,\n",
    "    QUANTITY_SOLD INT,\n",
    "    TOTAL_PRICE FLOAT,\n",
    "    SALES_CHANNEL STRING,\n",
    "    PROMOTION_APPLIED BOOLEAN,\n",
    "    FOREIGN KEY (ARTICLE_ID) REFERENCES DIM_ARTICLE(ARTICLE_ID),\n",
    "    FOREIGN KEY (CUSTOMER_ID) REFERENCES DIM_CUSTOMER(CUSTOMER_ID)\n",
    ");\n",
    "\n",
    "-- Populating Sales Fact Table with new attributes\n",
    "INSERT INTO FACT_SALES (SALE_ID, ARTICLE_ID, DATE_SALES, CUSTOMER_ID, QUANTITY_SOLD, TOTAL_PRICE, SALES_CHANNEL, PROMOTION_APPLIED)\n",
    "SELECT \n",
    "    SEQ4() AS SALE_ID,\n",
    "    A.ARTICLE_ID,\n",
    "    DATEADD(DAY, UNIFORM(-1095, 0, RANDOM()), CURRENT_DATE) AS DATE_SALES,\n",
    "    UNIFORM(1, 5000, RANDOM()) AS CUSTOMER_ID,\n",
    "    UNIFORM(1, 10, RANDOM()) AS QUANTITY_SOLD,\n",
    "    UNIFORM(1, 10, RANDOM()) * A.ARTICLE_PRICE AS TOTAL_PRICE,\n",
    "    CASE MOD(SEQ4(), 3)\n",
    "        WHEN 0 THEN 'Online'\n",
    "        WHEN 1 THEN 'In-Store'\n",
    "        ELSE 'Partner'\n",
    "    END AS SALES_CHANNEL,\n",
    "    CASE MOD(SEQ4(), 4)\n",
    "        WHEN 0 THEN TRUE\n",
    "        ELSE FALSE\n",
    "    END AS PROMOTION_APPLIED\n",
    "FROM DIM_ARTICLE A\n",
    "JOIN TABLE(GENERATOR(ROWCOUNT => 10000)) ON TRUE\n",
    "ORDER BY DATE_SALES;"
   ]
  },
  {
   "cell_type": "markdown",
   "id": "bc088cde-eff3-47cb-b98d-921d79b3d4cc",
   "metadata": {
    "collapsed": false,
    "name": "cell23"
   },
   "source": [
    "### Semantic File"
   ]
  },
  {
   "cell_type": "code",
   "execution_count": null,
   "id": "0121f643-d9b7-4784-a50f-83edfa02ddce",
   "metadata": {
    "language": "sql",
    "name": "copy_semantic_file"
   },
   "outputs": [],
   "source": [
    "CREATE OR REPLACE STAGE semantic_files ENCRYPTION = (TYPE = 'SNOWFLAKE_SSE') DIRECTORY = ( ENABLE = true );\n",
    "\n",
    "COPY FILES\n",
    "    INTO @semantic_files/\n",
    "    FROM @CC_CORTEX_AGENTS_SUMMIT.PUBLIC.git_repo/branches/main/\n",
    "    FILES = ('semantic.yaml', 'semantic_search.yaml');"
   ]
  },
  {
   "cell_type": "markdown",
   "id": "0d09d287-24c7-4691-ab2b-4a7a29f523e7",
   "metadata": {
    "collapsed": false,
    "name": "cell1"
   },
   "source": [
    "## Improving Tool Usage with Dynamic Literal Retrieval\n",
    "\n",
    "Thanks to the **Cortex Analyst** integration with **Cortex Search**, we can improve the retrieval of all possible values of a column. Instead of listing all possible values in the semantic file, we use **Cortex Search** Integration. \n",
    "\n",
    "Let's use it as example for the `ARTICLE_NAMES`, so we do not have to list all."
   ]
  },
  {
   "cell_type": "code",
   "execution_count": null,
   "id": "3313c2a7-09d6-4850-8318-80dca424ffab",
   "metadata": {
    "language": "sql",
    "name": "cell2"
   },
   "outputs": [
    {
     "data": {
      "text/html": [
       "<table border=\"1\" class=\"dataframe\">\n",
       "  <thead>\n",
       "    <tr style=\"text-align: right;\">\n",
       "      <th></th>\n",
       "      <th>Unnamed: 0</th>\n",
       "      <th>status</th>\n",
       "    </tr>\n",
       "  </thead>\n",
       "  <tbody>\n",
       "    <tr>\n",
       "      <th>0</th>\n",
       "      <td>0</td>\n",
       "      <td>Cortex search service _ARTICLE_NAME_SEARCH successfully created.</td>\n",
       "    </tr>\n",
       "  </tbody>\n",
       "</table>"
      ],
      "text/plain": [
       "   Unnamed: 0                                                            status\n",
       "0           0  Cortex search service _ARTICLE_NAME_SEARCH successfully created."
      ]
     },
     "execution_count": 1,
     "metadata": {},
     "output_type": "execute_result"
    }
   ],
   "source": [
    "CREATE OR REPLACE CORTEX SEARCH SERVICE _ARTICLE_NAME_SEARCH\n",
    "  ON ARTICLE_NAME\n",
    "  WAREHOUSE = COMPUTE_WH\n",
    "  TARGET_LAG = '1 hour'\n",
    "  EMBEDDING_MODEL = 'snowflake-arctic-embed-l-v2.0'\n",
    "AS (\n",
    "  SELECT\n",
    "      DISTINCT ARTICLE_NAME\n",
    "  FROM DIM_ARTICLE\n",
    ");"
   ]
  }
 ],
 "metadata": {
  "kernelspec": {
   "display_name": "Streamlit Notebook",
   "name": "streamlit"
  },
  "lastEditStatus": {
   "authorEmail": "",
   "authorId": "8299865240025",
   "authorName": "USER",
   "lastEditTime": 1759626047008,
   "notebookId": "673e3rfcywlyzavls5bs",
   "sessionId": "421de66d-8f25-4f25-906a-0b384ebcce88"
  }
 },
 "nbformat": 4,
 "nbformat_minor": 5
}
